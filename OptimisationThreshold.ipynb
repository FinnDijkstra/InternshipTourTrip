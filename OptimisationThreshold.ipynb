{
 "cells": [
  {
   "cell_type": "code",
   "execution_count": 13,
   "metadata": {},
   "outputs": [],
   "source": [
    "import pandas as pd\n",
    "import numpy as np\n",
    "import scipy.sparse \n",
    "from scipy.sparse import csr_matrix\n",
    "import math\n",
    "import sparse\n",
    "import ast\n",
    "from tqdm import tqdm\n",
    "import time\n",
    "import csv\n",
    "# from Preprocessing import *\n",
    "\n",
    "import gurobipy as gp\n",
    "from gurobipy import GRB\n",
    "\n",
    "%store -r\n",
    "\n",
    "def intersection(lst1, lst2):\n",
    "    lst3 = [value for value in lst1 if value in lst2]\n",
    "    return lst3"
   ]
  },
  {
   "cell_type": "code",
   "execution_count": 14,
   "metadata": {},
   "outputs": [],
   "source": [
    "#Create model and variables\n",
    "upperbound=5\n",
    "threshold=0.01\n",
    "modell = gp.Model('Tours2'+str(threshold)+'ub'+str(upperbound))\n",
    "\n",
    "yvar=modell.addVars(agents, vtype=GRB.CONTINUOUS, name=\"yvar\")\n",
    "xvar=modell.addVars(agents, lb=-1.0)\n",
    "zvar=modell.addVar()\n",
    "# yvar.start=1\n",
    "Absolute_value=modell.addVars(zones,zones, vtype=GRB.CONTINUOUS, name=\"Absolute_value\")"
   ]
  },
  {
   "cell_type": "code",
   "execution_count": 15,
   "metadata": {},
   "outputs": [
    {
     "name": "stderr",
     "output_type": "stream",
     "text": [
      "Creating constraints: 100%|██████████| 696/696 [17:34<00:00,  1.51s/it]\n"
     ]
    }
   ],
   "source": [
    "unusedthresholdpairs=[]\n",
    "for i in tqdm((zones), desc=\"Creating constraints\"):\n",
    "    for j in zones:\n",
    "        # if i==1 and j==4:\n",
    "        #     constraint = modell.addConstr((gp.quicksum((yvar[a]*(prob[agents.index(a)][i,j])) for a in usedagents[(i,j)])) <= Absolute_value[i,j] + obsMatrix[j][i], name='constraint')\n",
    "        # else:\n",
    "        if sum(prob[agents.index(a)][i,j] for a in usedagents[(i,j)])>0:\n",
    "            if obsMatrix[i][j]>threshold:\n",
    "                modell.addConstr((gp.quicksum((yvar[a]*(prob[agents.index(a)][i,j])) for a in usedagents[(i,j)])) <= Absolute_value[i,j] + obsMatrix[j][i])\n",
    "                modell.addConstr((gp.quicksum((yvar[a]*(prob[agents.index(a)][i,j])) for a in usedagents[(i,j)])) >= obsMatrix[j][i] - Absolute_value[i,j])\n",
    "                modell.addConstr(Absolute_value[i,j]>=0)\n",
    "            else:\n",
    "                # print('hij heeft er nu eentje gevonden')\n",
    "                unusedthresholdpairs.append([i,j])\n",
    "        # else:\n",
    "        #     modell.addConstr((gp.quicksum((yvar[a]*(prob[agents.index(a)][i,j])) for a in usedagents[(i,j)])) <= Absolute_value[i,j] + obsMatrix[j][i])\n",
    "        #     modell.addConstr((gp.quicksum((yvar[a]*(prob[agents.index(a)][i,j])) for a in usedagents[(i,j)])) >= obsMatrix[j][i] - Absolute_value[i,j])\n",
    "        #     modell.addConstr(Absolute_value[i,j]>=0)\n",
    "modell.update()"
   ]
  },
  {
   "cell_type": "code",
   "execution_count": 16,
   "metadata": {},
   "outputs": [],
   "source": [
    "# upperbound = 3\n",
    "\n",
    "for a in agents: \n",
    "    modell.addConstr(yvar[a] >= 0)\n",
    "    modell.addConstr(yvar[a]<= upperbound)\n",
    "    modell.addConstr(xvar[a] == yvar[a]-1)\n",
    "modell.addConstr(zvar==gp.norm(xvar,1))\n",
    "modell.update()"
   ]
  },
  {
   "cell_type": "code",
   "execution_count": 17,
   "metadata": {},
   "outputs": [],
   "source": [
    "# Objective function\n",
    "obj = gp.quicksum((Absolute_value[i,j]) for i in zones for j in zones)+(1/maxagentnr)*zvar\n",
    "modell.setObjective(obj, GRB.MINIMIZE)"
   ]
  },
  {
   "cell_type": "code",
   "execution_count": 18,
   "metadata": {},
   "outputs": [
    {
     "name": "stdout",
     "output_type": "stream",
     "text": [
      "Gurobi Optimizer version 10.0.0 build v10.0.0rc2 (win64)\n",
      "\n",
      "CPU model: Intel(R) Core(TM) i7-8750H CPU @ 2.20GHz, instruction set [SSE2|AVX|AVX2]\n",
      "Thread count: 6 physical cores, 12 logical processors, using up to 12 threads\n",
      "\n",
      "Optimize a model with 2048013 rows, 885431 columns and 2906436 nonzeros\n",
      "Model fingerprint: 0x630f3cf9\n",
      "Model has 1 general constraint\n",
      "Variable types: 885431 continuous, 0 integer (0 binary)\n",
      "Coefficient statistics:\n",
      "  Matrix range     [2e-04, 1e+00]\n",
      "  Objective range  [3e-06, 1e+00]\n",
      "  Bounds range     [1e+00, 1e+00]\n",
      "  RHS range        [1e-03, 1e+03]\n",
      "Presolve removed 2091750 rows and 766762 columns (presolve time = 5s) ...\n",
      "Presolve removed 1801966 rows and 659858 columns\n",
      "Presolve time: 8.63s\n",
      "Presolved: 246047 rows, 225573 columns, 851849 nonzeros\n",
      "Variable types: 225571 continuous, 2 integer (0 binary)\n",
      "Deterministic concurrent LP optimizer: primal simplex, dual simplex, and barrier\n",
      "Showing barrier log only...\n",
      "\n",
      "Root barrier log...\n",
      "\n",
      "Ordering time: 1.51s\n",
      "\n",
      "Barrier statistics:\n",
      " AA' NZ     : 1.084e+06\n",
      " Factor NZ  : 4.273e+06 (roughly 230 MB of memory)\n",
      " Factor Ops : 2.606e+09 (less than 1 second per iteration)\n",
      " Threads    : 4\n",
      "\n",
      "                  Objective                Residual\n",
      "Iter       Primal          Dual         Primal    Dual     Compl     Time\n",
      "   0   2.47577408e+06 -4.51694801e+06  5.69e+03 1.01e+00  2.83e+02    12s\n",
      "   1   1.06562108e+06 -5.45694343e+06  1.20e+03 1.15e-14  5.90e+01    12s\n",
      "   2   4.71692934e+05 -4.49174340e+06  2.40e+02 4.44e-14  1.53e+01    13s\n",
      "   3   3.03559499e+05 -1.73129965e+06  1.70e+01 3.20e-14  3.19e+00    13s\n",
      "   4   2.54237987e+05 -5.60942292e+05  7.63e+00 1.51e-14  1.22e+00    13s\n",
      "   5   2.34261307e+05 -4.16227571e+05  5.93e+00 1.15e-14  9.66e-01    13s\n",
      "   6   2.18531457e+05 -9.17116263e+04  4.78e+00 6.22e-15  4.58e-01    13s\n",
      "   7   1.97711278e+05 -7.08081042e+03  3.31e+00 4.00e-15  3.00e-01    14s\n",
      "   8   1.88900815e+05  3.56860106e+04  2.66e+00 3.77e-15  2.24e-01    14s\n",
      "   9   1.77239151e+05  8.93771198e+04  1.86e+00 5.33e-15  1.28e-01    14s\n",
      "  10   1.69451340e+05  1.06887002e+05  1.30e+00 3.55e-15  9.08e-02    14s\n",
      "  11   1.66532792e+05  1.21010286e+05  1.09e+00 3.55e-15  6.60e-02    15s\n",
      "  12   1.62744830e+05  1.32109583e+05  8.00e-01 4.08e-15  4.44e-02    15s\n",
      "  13   1.58660999e+05  1.36964178e+05  4.80e-01 3.58e-15  3.13e-02    15s\n",
      "  14   1.57330992e+05  1.41349795e+05  3.69e-01 3.04e-15  2.31e-02    15s\n",
      "  15   1.56212318e+05  1.45711763e+05  2.68e-01 2.66e-15  1.51e-02    16s\n",
      "  16   1.55411609e+05  1.48457847e+05  1.81e-01 3.15e-15  1.00e-02    16s\n",
      "  17   1.54616841e+05  1.50054344e+05  8.68e-02 3.26e-15  6.57e-03    16s\n",
      "  18   1.54314130e+05  1.51670927e+05  4.84e-02 3.55e-15  3.80e-03    16s\n",
      "  19   1.54214183e+05  1.52707695e+05  3.51e-02 3.55e-15  2.17e-03    16s\n",
      "  20   1.54055181e+05  1.53300703e+05  1.31e-02 3.55e-15  1.08e-03    17s\n",
      "  21   1.54005484e+05  1.53752013e+05  6.73e-03 4.13e-15  3.65e-04    17s\n",
      "  22   1.53968191e+05  1.53931162e+05  2.02e-03 3.55e-15  5.34e-05    17s\n",
      "  23   1.53956630e+05  1.53950290e+05  5.68e-04 5.33e-15  9.17e-06    17s\n",
      "  24   1.53953214e+05  1.53950691e+05  1.90e-04 3.94e-15  3.65e-06    17s\n",
      "  25   1.53952106e+05  1.53951074e+05  6.90e-05 2.43e-15  1.49e-06    18s\n",
      "  26   1.53951754e+05  1.53951222e+05  3.10e-05 3.55e-15  7.68e-07    18s\n",
      "  27   1.53951634e+05  1.53951320e+05  1.83e-05 2.80e-15  4.54e-07    18s\n",
      "  28   1.53951606e+05  1.53951357e+05  1.54e-05 2.25e-15  3.59e-07    18s\n",
      "  29   1.53951550e+05  1.53951386e+05  9.70e-06 4.54e-15  2.36e-07    18s\n",
      "  30   1.53951522e+05  1.53951404e+05  6.89e-06 2.49e-15  1.70e-07    19s\n",
      "  31   1.53951500e+05  1.53951414e+05  4.73e-06 2.59e-15  1.24e-07    19s\n",
      "  32   1.53951477e+05  1.53951428e+05  2.64e-06 3.55e-15  7.13e-08    19s\n",
      "  33   1.53951467e+05  1.53951437e+05  1.74e-06 3.64e-15  4.27e-08    19s\n",
      "  34   1.53951459e+05  1.53951441e+05  9.36e-07 3.55e-15  2.56e-08    20s\n",
      "  35   1.53951457e+05  1.53951444e+05  7.39e-07 3.55e-15  1.86e-08    20s\n",
      "  36   1.53951454e+05  1.53951444e+05  5.26e-07 2.96e-15  1.46e-08    20s\n",
      "  37   1.53951453e+05  1.53951446e+05  3.93e-07 3.55e-15  1.08e-08    21s\n",
      "  38   1.53951452e+05  1.53951447e+05  2.76e-07 5.33e-15  6.80e-09    21s\n",
      "  39   1.53951450e+05  1.53951448e+05  1.40e-07 3.55e-15  3.89e-09    21s\n",
      "  40   1.53951450e+05  1.53951448e+05  6.61e-08 2.58e-15  1.78e-09    22s\n",
      "  41   1.53951449e+05  1.53951449e+05  2.86e-08 2.81e-15  9.95e-10    22s\n",
      "  42   1.53951449e+05  1.53951449e+05  1.37e-08 2.37e-15  5.65e-10    22s\n",
      "  43   1.53951449e+05  1.53951449e+05  4.65e-09 3.40e-15  2.33e-10    23s\n",
      "  44   1.53951449e+05  1.53951449e+05  1.78e-09 2.08e-15  1.08e-10    23s\n",
      "\n",
      "Barrier solved model in 44 iterations and 22.85 seconds (12.00 work units)\n",
      "Optimal objective 1.53951449e+05\n",
      "\n",
      "\n",
      "Root crossover log...\n",
      "\n",
      "   31574 DPushes remaining with DInf 3.0156274e-03                23s\n",
      "       0 DPushes remaining with DInf 3.0156274e-03                23s\n",
      "\n",
      "  179814 PPushes remaining with PInf 0.0000000e+00                24s\n",
      "    2677 PPushes remaining with PInf 0.0000000e+00                25s\n",
      "       0 PPushes remaining with PInf 0.0000000e+00                25s\n",
      "\n",
      "  Push phase complete: Pinf 0.0000000e+00, Dinf 4.8776835e-03     25s\n",
      "\n",
      "\n",
      "Root simplex log...\n",
      "\n",
      "Iteration    Objective       Primal Inf.    Dual Inf.      Time\n",
      "  196461    1.5395145e+05   0.000000e+00   4.877683e-03     25s\n",
      "  199422    1.5395145e+05   0.000000e+00   0.000000e+00     26s\n",
      "Concurrent spin time: 6.44s (can be avoided by choosing Method=3)\n",
      "\n",
      "Solved with barrier\n",
      "  199432    1.5395145e+05   0.000000e+00   0.000000e+00     32s\n",
      "Extra simplex iterations after uncrush: 10\n",
      "\n",
      "Root relaxation: objective 1.539514e+05, 199432 iterations, 23.43 seconds (8.44 work units)\n",
      "\n",
      "    Nodes    |    Current Node    |     Objective Bounds      |     Work\n",
      " Expl Unexpl |  Obj  Depth IntInf | Incumbent    BestBd   Gap | It/Node Time\n",
      "\n",
      "*    0     0               0    153951.44896 153951.449  0.00%     -   32s\n",
      "\n",
      "Explored 1 nodes (199432 simplex iterations) in 32.53 seconds (13.90 work units)\n",
      "Thread count was 12 (of 12 available processors)\n",
      "\n",
      "Solution count 1: 153951 \n",
      "\n",
      "Optimal solution found (tolerance 1.00e-04)\n",
      "Best objective 1.539514489628e+05, best bound 1.539514489627e+05, gap 0.0000%\n"
     ]
    }
   ],
   "source": [
    "# Run model\n",
    "modell.write('tours2'+str(threshold)+'ub'+str(upperbound)+'.lp')\n",
    "modell.optimize()\n",
    "modell.write('solution'+str(threshold)+'ub'+str(upperbound)+'.sol')\n",
    "end_time=time.time()"
   ]
  },
  {
   "cell_type": "code",
   "execution_count": 19,
   "metadata": {},
   "outputs": [
    {
     "name": "stderr",
     "output_type": "stream",
     "text": [
      "100%|██████████| 696/696 [01:53<00:00,  6.16it/s]\n"
     ]
    },
    {
     "name": "stdout",
     "output_type": "stream",
     "text": [
      "The objective is 174398.99584534226\n",
      "The quadratic objective is 10316043.020003978\n",
      "The time before the model takes:875.3596587181091\n",
      "The time making the model takes:19822.643738031387\n",
      "The total time this takes:20698.003396749496\n",
      "The amount of nonzero values smaller than 0.1 is 4274\n",
      "The number of nonzero variables is 164723\n",
      "The number of zero variables is 35784\n",
      "number of ones is 109360\n",
      "number of largevalues is 0\n",
      "The maximum value that a y variable takes is: 5.0000000000000036 for agent: 69286\n",
      "The amount of variables between 0 and 5 is: 192131\n"
     ]
    }
   ],
   "source": [
    "#output report\n",
    "ODmatrix={}\n",
    "objective=0\n",
    "quadobj=0\n",
    "for i in tqdm(zones):\n",
    "    for j in zones:\n",
    "        if [i,j] in unusedthresholdpairs:\n",
    "            ODmatrix[i+1,j+1]=abs(sum(yvar[a].x*prob[agents.index(a)][i,j] for a in usedagents[(i,j)])-obsMatrix[j][i])\n",
    "            # extraobjective1+=abs(sum(prob[agents.index(a)][i,j] for a in usedagents[(i,j)])-obsMatrix[j][i])\n",
    "            objective+=abs(sum(yvar[a].x*prob[agents.index(a)][i,j] for a in usedagents[(i,j)])-obsMatrix[j][i])\n",
    "            quadobj+=(sum(yvar[a].x*prob[agents.index(a)][i,j] for a in usedagents[(i,j)])-obsMatrix[j][i])**2\n",
    "        else:\n",
    "            ODmatrix[i+1,j+1]=Absolute_value[i,j].x\n",
    "            objective+=Absolute_value[i,j].x\n",
    "            quadobj+=(Absolute_value[i,j].x)**2\n",
    "        # print(f'The objective value for [{i+1},{j+1}] is {Absolute_value[i,j].x}')\n",
    "\n",
    "print(f'The objective is {objective}')\n",
    "print(f'The quadratic objective is {quadobj}')\n",
    "print(f'The time before the model takes:{beforemodel_time-start_time}')\n",
    "print(f'The time making the model takes:{end_time-beforemodel_time}')\n",
    "print(f'The total time this takes:{end_time-start_time}')\n",
    "\n",
    "y_variables=[]\n",
    "variables={}\n",
    "for a in agents:\n",
    "    # print(f'The variable for agent {a} is {yvar[a].x}')\n",
    "    y_variables.append(yvar[a].x)\n",
    "    variables[a]=yvar[a].x\n",
    "\n",
    "nonzerovaragent=[x for x in agents if variables[x]!=0]\n",
    "# smallnonzeroagent=[x for x in nonzerovar if variables[x]<0.1]\n",
    "zerovaragent=[a for a in agents if variables[a]==0]\n",
    "nonzerovar=[x for x in y_variables if x!=0]\n",
    "smallnonzero=[x for x in nonzerovar if x<0.1]\n",
    "zerovar=[x for x in y_variables if x==0]\n",
    "# print(zerovaragent)\n",
    "print(f'The amount of nonzero values smaller than 0.1 is {len(smallnonzero)}')\n",
    "# count=0    \n",
    "small=[x for x in y_variables if x<5]\n",
    "smallagents=[x for x in agents if variables[x]<5]\n",
    "print(f'The number of nonzero variables is {len(nonzerovar)}')\n",
    "print(f'The number of zero variables is {len(y_variables)-len(nonzerovar)}')\n",
    "onesagent=[x for x in agents if variables[x]==1]\n",
    "ones=[x for x in y_variables if x==1]\n",
    "\n",
    "# print(ones)\n",
    "print(f'number of ones is {len(ones)}')\n",
    "largervalues=[x for x in agents if variables[x]>50]\n",
    "print(f'number of largevalues is {len(largervalues)}')\n",
    "# for i in range(0,len(nonzerovar)):\n",
    "#     if nonzerovar[i]<5:\n",
    "#         count+=1\n",
    "        # print(nonzerovar[i])\n",
    "print(f'The maximum value that a y variable takes is: {max(y_variables)} for agent: {y_variables.index(max(y_variables))+1}')\n",
    "print(f'The amount of variables between 0 and 5 is: {len(small)}')\n",
    "\n",
    "results={}\n",
    "results['objective']=objective\n",
    "results['starttime']=start_time\n",
    "results['beforemodel_time']=beforemodel_time\n",
    "results['end_time']=end_time\n",
    "results['zerovar']=zerovaragent\n",
    "results['ones']=onesagent\n",
    "results['nonzerovar']=nonzerovaragent\n",
    "results['amountnonzerovar']=len(nonzerovar)\n",
    "results['variables>50']=largervalues\n",
    "results['amountvariables>50']=len(largervalues)\n",
    "results['agents<0.1']=smallagents\n",
    "results['smallnonzero<0.1']=len(smallnonzero)\n",
    "results['amountbetween0-5']=len(small)\n",
    "results['maxyvalue']=max(y_variables)\n",
    "results['y_variables']=y_variables\n",
    "\n",
    "# open file for writing, \"w\" is writing\n",
    "opener = open(\"results\"+str(threshold)+'ub'+str(upperbound)+\".csv\", \"w\")\n",
    "w= csv.writer(opener)\n",
    "\n",
    "# loop over dictionary keys and values\n",
    "for key, val in results.items():\n",
    "\n",
    "    # write every key and value to file\n",
    "    w.writerow([key, val])\n",
    "opener.close()\n",
    "\n",
    "np.savetxt(\"y_variables\"+str(threshold)+'ub'+str(upperbound)+\".csv\", \n",
    "           y_variables,\n",
    "           delimiter =\", \", \n",
    "           fmt ='% s')\n",
    "np.savetxt(\"agents\"+str(threshold)+'ub'+str(upperbound)+\".csv\", \n",
    "           agents,\n",
    "           delimiter =\", \", \n",
    "           fmt ='% s')\n",
    "var=pd.DataFrame([variables])\n",
    "odmatrix=pd.DataFrame([ODmatrix])\n",
    "var.to_csv('variables'+str(threshold)+'ub'+str(upperbound)+'.csv')\n",
    "odmatrix.to_csv('ODMatrix'+str(threshold)+'ub'+str(upperbound)+'.csv')\n"
   ]
  },
  {
   "cell_type": "code",
   "execution_count": 20,
   "metadata": {},
   "outputs": [
    {
     "name": "stdout",
     "output_type": "stream",
     "text": [
      "2252\n"
     ]
    }
   ],
   "source": [
    "print(len(unusedthresholdpairs))"
   ]
  },
  {
   "cell_type": "code",
   "execution_count": 21,
   "metadata": {},
   "outputs": [
    {
     "name": "stdout",
     "output_type": "stream",
     "text": [
      "run optimisation with upperbound 5, threshold 0.01\n"
     ]
    },
    {
     "data": {
      "image/png": "[encoded data removed]",
      "text/plain": [
       "<Figure size 640x480 with 1 Axes>"
      ]
     },
     "metadata": {},
     "output_type": "display_data"
    },
    {
     "data": {
      "image/png": "[encoded data removed]",
      "text/plain": [
       "<Figure size 640x480 with 1 Axes>"
      ]
     },
     "metadata": {},
     "output_type": "display_data"
    },
    {
     "data": {
      "image/png": "[encoded data removed]",
      "text/plain": [
       "<Figure size 640x480 with 1 Axes>"
      ]
     },
     "metadata": {},
     "output_type": "display_data"
    },
    {
     "data": {
      "image/png": "[encoded data removed]",
      "text/plain": [
       "<Figure size 640x480 with 1 Axes>"
      ]
     },
     "metadata": {},
     "output_type": "display_data"
    },
    {
     "data": {
      "image/png": "[encoded data removed]",
      "text/plain": [
       "<Figure size 640x480 with 1 Axes>"
      ]
     },
     "metadata": {},
     "output_type": "display_data"
    }
   ],
   "source": [
    "import matplotlib.pyplot as plt\n",
    "print(f'run optimisation with upperbound {upperbound}, threshold {threshold}')\n",
    "# plt.scatter(agents,y_variables.sort())\n",
    "# plt.show()\n",
    "# print(y_variables)\n",
    "y_variables.sort()\n",
    "# print(sortedlist)\n",
    "plt.scatter(range(len(y_variables)),y_variables, s=1)\n",
    "plt.savefig('plot'+str(threshold)+'ub'+str(upperbound)+'.png', dpi=500)\n",
    "plt.show()\n",
    "plt.hist(y_variables)\n",
    "plt.savefig('histplot'+str(threshold)+'ub'+str(upperbound)+'.png', dpi=500)\n",
    "plt.show()\n",
    "plt.hist(nonzerovar)\n",
    "plt.savefig('nonzerohist'+str(threshold)+'ub'+str(upperbound)+'.png', dpi=500)\n",
    "plt.show()\n",
    "plt.hist(small)\n",
    "plt.savefig('smallvalues'+str(threshold)+'ub'+str(upperbound)+'.png', dpi=500)\n",
    "plt.show()\n",
    "small.sort()\n",
    "plt.scatter(range(len(small)),small, s=1)\n",
    "plt.savefig('smallscatter'+str(threshold)+'ub'+str(upperbound)+'.png', dpi=500)\n",
    "plt.show()\n",
    "# print(y_variables)"
   ]
  }
 ],
 "metadata": {
  "kernelspec": {
   "display_name": "Python 3.9.13 ('base')",
   "language": "python",
   "name": "python3"
  },
  "language_info": {
   "codemirror_mode": {
    "name": "ipython",
    "version": 3
   },
   "file_extension": ".py",
   "mimetype": "text/x-python",
   "name": "python",
   "nbconvert_exporter": "python",
   "pygments_lexer": "ipython3",
   "version": "3.9.13 (main, Aug 25 2022, 23:51:50) [MSC v.1916 64 bit (AMD64)]"
  },
  "orig_nbformat": 4,
  "vscode": {
   "interpreter": {
    "hash": "4b310c44f7508c255b2be012e5498551d7eb17075f3584dbbe011a03e16c207e"
   }
  }
 },
 "nbformat": 4,
 "nbformat_minor": 2
}
